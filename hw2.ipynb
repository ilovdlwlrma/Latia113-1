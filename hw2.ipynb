{
 "cells": [
  {
   "cell_type": "code",
   "execution_count": 1,
   "metadata": {},
   "outputs": [
    {
     "name": "stdout",
     "output_type": "stream",
     "text": [
      "hello\n"
     ]
    }
   ],
   "source": [
    "def hello():\n",
    "    print('hello')\n",
    "\n",
    "hello()"
   ]
  },
  {
   "cell_type": "code",
   "execution_count": 2,
   "metadata": {},
   "outputs": [
    {
     "name": "stdout",
     "output_type": "stream",
     "text": [
      "hello\n",
      "good moring\n"
     ]
    }
   ],
   "source": [
    "def hello(msg):\n",
    "    print(msg)\n",
    "\n",
    "hello('hello')\n",
    "hello('good moring')"
   ]
  },
  {
   "cell_type": "code",
   "execution_count": 3,
   "metadata": {},
   "outputs": [
    {
     "name": "stdout",
     "output_type": "stream",
     "text": [
      "20\n"
     ]
    }
   ],
   "source": [
    "def hello(x, y = 10):\n",
    "    z = x + y\n",
    "    print(z)\n",
    "\n",
    "hello(10,)"
   ]
  },
  {
   "cell_type": "code",
   "execution_count": 4,
   "metadata": {},
   "outputs": [
    {
     "name": "stdout",
     "output_type": "stream",
     "text": [
      "marco is 21 years old.\n"
     ]
    }
   ],
   "source": [
    "def hello(name, age):\n",
    "    msg = f'{name} is {age} years old.'\n",
    "    print(msg)\n",
    "\n",
    "hello('marco','21')"
   ]
  },
  {
   "cell_type": "code",
   "execution_count": 5,
   "metadata": {},
   "outputs": [
    {
     "name": "stdout",
     "output_type": "stream",
     "text": [
      "5 8\n"
     ]
    }
   ],
   "source": [
    "def a(x, y):\n",
    "    result = x + y * 2\n",
    "    return result\n",
    "\n",
    "b = a(1, 2)\n",
    "c = a(2, 3)\n",
    "print(b, c)"
   ]
  },
  {
   "cell_type": "code",
   "execution_count": 6,
   "metadata": {},
   "outputs": [
    {
     "name": "stdout",
     "output_type": "stream",
     "text": [
      "5 10\n"
     ]
    }
   ],
   "source": [
    "def a(x):\n",
    "    result = 0\n",
    "    while result < 10:\n",
    "        result = result + x\n",
    "        if result == 5:\n",
    "            return result\n",
    "    return result\n",
    "\n",
    "b = a(1)\n",
    "c = a(2)\n",
    "print(b,c)"
   ]
  },
  {
   "cell_type": "markdown",
   "metadata": {},
   "source": [
    "當x=1代入a(x)中時, result += x的迴圈會出現result = 5的狀況, 因此就會直接回傳並印出5  \n",
    "但當x=2代入時, result並不會出現5, 而是2 4 6 8 10, 因此會一直執行到result == 10時才跳出迴圈並印出10"
   ]
  },
  {
   "cell_type": "code",
   "execution_count": 7,
   "metadata": {},
   "outputs": [
    {
     "name": "stdout",
     "output_type": "stream",
     "text": [
      "Original values:  [0.0, 0.0011, 0.25, 0.5, 0, 54, 0.75, 1.0]\n",
      "Scaled values:  [-1.0, -0.9978, -0.5, 0.0, -1, 107, 0.5, 1.0]\n"
     ]
    }
   ],
   "source": [
    "def tf(value):\n",
    "    return 2 * value - 1\n",
    "\n",
    "test_values = [0.0, 0.0011, 0.25, 0.5,0,54, 0.75, 1.0]\n",
    "scaled_values = [tf(value) for value in test_values]\n",
    "print(\"Original values: \", test_values)\n",
    "print(\"Scaled values: \", scaled_values)"
   ]
  },
  {
   "cell_type": "code",
   "execution_count": 8,
   "metadata": {},
   "outputs": [
    {
     "name": "stdout",
     "output_type": "stream",
     "text": [
      "6\n"
     ]
    }
   ],
   "source": [
    "def a(n):\n",
    "    if n == 0 or n == 1:\n",
    "        return 1\n",
    "    else:\n",
    "        return n + a(n - 1)\n",
    "\n",
    "print(a(3))"
   ]
  },
  {
   "cell_type": "code",
   "execution_count": 9,
   "metadata": {},
   "outputs": [],
   "source": [
    "with open('test.txt','w') as f1:\n",
    "    f1.write('good morning')"
   ]
  },
  {
   "cell_type": "code",
   "execution_count": 10,
   "metadata": {},
   "outputs": [
    {
     "name": "stdout",
     "output_type": "stream",
     "text": [
      "good morning\n"
     ]
    }
   ],
   "source": [
    "f = open('test.txt','r')\n",
    "a = f.read()\n",
    "print(a)\n",
    "f.close()"
   ]
  },
  {
   "cell_type": "code",
   "execution_count": 11,
   "metadata": {},
   "outputs": [
    {
     "name": "stdout",
     "output_type": "stream",
     "text": [
      "2024-10-02 17:34:32.140784\n",
      "2024-10-02\n"
     ]
    }
   ],
   "source": [
    "import datetime\n",
    "print(datetime.datetime.now())\n",
    "print(datetime.date.today()) "
   ]
  },
  {
   "cell_type": "code",
   "execution_count": 12,
   "metadata": {},
   "outputs": [
    {
     "name": "stdout",
     "output_type": "stream",
     "text": [
      "2024-10-02 17:34:32.146910\n",
      "2024-10-02\n"
     ]
    }
   ],
   "source": [
    "import datetime as dd\n",
    "print(dd.datetime.now())\n",
    "print(dd.date.today()) "
   ]
  },
  {
   "cell_type": "code",
   "execution_count": 2,
   "metadata": {},
   "outputs": [],
   "source": [
    "import pandas as pd\n",
    "import numpy as np"
   ]
  },
  {
   "cell_type": "code",
   "execution_count": 4,
   "metadata": {},
   "outputs": [
    {
     "name": "stdout",
     "output_type": "stream",
     "text": [
      "DatetimeIndex(['2013-01-01', '2013-01-02', '2013-01-03', '2013-01-04',\n",
      "               '2013-01-05', '2013-01-06'],\n",
      "              dtype='datetime64[ns]', freq='D')\n"
     ]
    }
   ],
   "source": [
    "dates = pd.date_range(\"20130101\", periods=6)\n",
    "print(dates)"
   ]
  },
  {
   "cell_type": "code",
   "execution_count": 6,
   "metadata": {},
   "outputs": [
    {
     "name": "stdout",
     "output_type": "stream",
     "text": [
      "                   A         B         C         D\n",
      "2013-01-01 -1.225880 -0.267427 -0.885455 -0.374412\n",
      "2013-01-02 -1.413673  0.515136 -0.721941  1.734132\n",
      "2013-01-03 -2.563290  1.250634  1.088354 -2.013576\n",
      "2013-01-04 -0.871348  0.710303 -1.490258 -0.148848\n",
      "2013-01-05 -1.785303  0.124893 -1.542130  0.110644\n",
      "2013-01-06 -0.755312 -1.140654 -2.679118  1.214495\n"
     ]
    }
   ],
   "source": [
    "df = pd.DataFrame(np.random.randn(6, 4), index=dates, columns = list(\"ABCD\"))\n",
    "print(df)"
   ]
  },
  {
   "cell_type": "code",
   "execution_count": 43,
   "metadata": {},
   "outputs": [
    {
     "name": "stdout",
     "output_type": "stream",
     "text": [
      "                   A         B         C         D\n",
      "2013-01-01 -1.225880 -0.267427 -0.885455 -0.374412\n",
      "2013-01-02 -1.413673  0.515136 -0.721941  1.734132\n",
      "2013-01-03 -2.563290  1.250634  1.088354 -2.013576\n",
      "2013-01-04 -0.871348  0.710303 -1.490258 -0.148848\n",
      "2013-01-05 -1.785303  0.124893 -1.542130  0.110644 \n",
      "\n",
      "                   A         B         C         D\n",
      "2013-01-04 -0.871348  0.710303 -1.490258 -0.148848\n",
      "2013-01-05 -1.785303  0.124893 -1.542130  0.110644\n",
      "2013-01-06 -0.755312 -1.140654 -2.679118  1.214495 \n",
      "\n",
      "DatetimeIndex(['2013-01-01', '2013-01-02', '2013-01-03', '2013-01-04',\n",
      "               '2013-01-05', '2013-01-06'],\n",
      "              dtype='datetime64[ns]', freq='D') \n",
      "\n",
      "Index(['A', 'B', 'C', 'D'], dtype='object')\n"
     ]
    }
   ],
   "source": [
    "print(df.head(),'\\n')\n",
    "print(df.tail(3),'\\n')\n",
    "print(df.index,'\\n')\n",
    "print(df.columns)"
   ]
  },
  {
   "cell_type": "code",
   "execution_count": 45,
   "metadata": {},
   "outputs": [
    {
     "data": {
      "text/plain": [
       "array([[-1.22587965, -0.26742691, -0.88545474, -0.37441228],\n",
       "       [-1.41367277,  0.51513604, -0.72194081,  1.73413152],\n",
       "       [-2.56329   ,  1.25063359,  1.0883543 , -2.01357598],\n",
       "       [-0.87134788,  0.71030327, -1.49025769, -0.14884763],\n",
       "       [-1.78530313,  0.12489254, -1.54213022,  0.11064411],\n",
       "       [-0.75531202, -1.1406535 , -2.67911795,  1.2144948 ]])"
      ]
     },
     "execution_count": 45,
     "metadata": {},
     "output_type": "execute_result"
    }
   ],
   "source": [
    "df2 = df.copy()\n",
    "df2.to_numpy()"
   ]
  },
  {
   "cell_type": "code",
   "execution_count": 19,
   "metadata": {},
   "outputs": [
    {
     "data": {
      "text/html": [
       "<div>\n",
       "<style scoped>\n",
       "    .dataframe tbody tr th:only-of-type {\n",
       "        vertical-align: middle;\n",
       "    }\n",
       "\n",
       "    .dataframe tbody tr th {\n",
       "        vertical-align: top;\n",
       "    }\n",
       "\n",
       "    .dataframe thead th {\n",
       "        text-align: right;\n",
       "    }\n",
       "</style>\n",
       "<table border=\"1\" class=\"dataframe\">\n",
       "  <thead>\n",
       "    <tr style=\"text-align: right;\">\n",
       "      <th></th>\n",
       "      <th>A</th>\n",
       "      <th>B</th>\n",
       "      <th>C</th>\n",
       "      <th>D</th>\n",
       "    </tr>\n",
       "  </thead>\n",
       "  <tbody>\n",
       "    <tr>\n",
       "      <th>count</th>\n",
       "      <td>6.000000</td>\n",
       "      <td>6.000000</td>\n",
       "      <td>6.000000</td>\n",
       "      <td>6.000000</td>\n",
       "    </tr>\n",
       "    <tr>\n",
       "      <th>mean</th>\n",
       "      <td>-1.435801</td>\n",
       "      <td>0.198814</td>\n",
       "      <td>-1.038425</td>\n",
       "      <td>0.087072</td>\n",
       "    </tr>\n",
       "    <tr>\n",
       "      <th>std</th>\n",
       "      <td>0.666275</td>\n",
       "      <td>0.834868</td>\n",
       "      <td>1.248719</td>\n",
       "      <td>1.316495</td>\n",
       "    </tr>\n",
       "    <tr>\n",
       "      <th>min</th>\n",
       "      <td>-2.563290</td>\n",
       "      <td>-1.140654</td>\n",
       "      <td>-2.679118</td>\n",
       "      <td>-2.013576</td>\n",
       "    </tr>\n",
       "    <tr>\n",
       "      <th>25%</th>\n",
       "      <td>-1.692396</td>\n",
       "      <td>-0.169347</td>\n",
       "      <td>-1.529162</td>\n",
       "      <td>-0.318021</td>\n",
       "    </tr>\n",
       "    <tr>\n",
       "      <th>50%</th>\n",
       "      <td>-1.319776</td>\n",
       "      <td>0.320014</td>\n",
       "      <td>-1.187856</td>\n",
       "      <td>-0.019102</td>\n",
       "    </tr>\n",
       "    <tr>\n",
       "      <th>75%</th>\n",
       "      <td>-0.959981</td>\n",
       "      <td>0.661511</td>\n",
       "      <td>-0.762819</td>\n",
       "      <td>0.938532</td>\n",
       "    </tr>\n",
       "    <tr>\n",
       "      <th>max</th>\n",
       "      <td>-0.755312</td>\n",
       "      <td>1.250634</td>\n",
       "      <td>1.088354</td>\n",
       "      <td>1.734132</td>\n",
       "    </tr>\n",
       "  </tbody>\n",
       "</table>\n",
       "</div>"
      ],
      "text/plain": [
       "              A         B         C         D\n",
       "count  6.000000  6.000000  6.000000  6.000000\n",
       "mean  -1.435801  0.198814 -1.038425  0.087072\n",
       "std    0.666275  0.834868  1.248719  1.316495\n",
       "min   -2.563290 -1.140654 -2.679118 -2.013576\n",
       "25%   -1.692396 -0.169347 -1.529162 -0.318021\n",
       "50%   -1.319776  0.320014 -1.187856 -0.019102\n",
       "75%   -0.959981  0.661511 -0.762819  0.938532\n",
       "max   -0.755312  1.250634  1.088354  1.734132"
      ]
     },
     "execution_count": 19,
     "metadata": {},
     "output_type": "execute_result"
    }
   ],
   "source": [
    "df.describe()"
   ]
  },
  {
   "cell_type": "code",
   "execution_count": 21,
   "metadata": {},
   "outputs": [
    {
     "name": "stdout",
     "output_type": "stream",
     "text": [
      "              A         B         C         D\n",
      "count  6.000000  6.000000  6.000000  6.000000\n",
      "mean  -1.435801  0.198814 -1.038425  0.087072\n",
      "std    0.666275  0.834868  1.248719  1.316495\n",
      "min   -2.563290 -1.140654 -2.679118 -2.013576\n",
      "25%   -1.692396 -0.169347 -1.529162 -0.318021\n",
      "50%   -1.319776  0.320014 -1.187856 -0.019102\n",
      "75%   -0.959981  0.661511 -0.762819  0.938532\n",
      "max   -0.755312  1.250634  1.088354  1.734132\n"
     ]
    }
   ],
   "source": [
    "q = df.describe()\n",
    "print(q)"
   ]
  },
  {
   "cell_type": "code",
   "execution_count": 46,
   "metadata": {},
   "outputs": [
    {
     "data": {
      "text/html": [
       "<div>\n",
       "<style scoped>\n",
       "    .dataframe tbody tr th:only-of-type {\n",
       "        vertical-align: middle;\n",
       "    }\n",
       "\n",
       "    .dataframe tbody tr th {\n",
       "        vertical-align: top;\n",
       "    }\n",
       "\n",
       "    .dataframe thead th {\n",
       "        text-align: right;\n",
       "    }\n",
       "</style>\n",
       "<table border=\"1\" class=\"dataframe\">\n",
       "  <thead>\n",
       "    <tr style=\"text-align: right;\">\n",
       "      <th></th>\n",
       "      <th>2013-01-01</th>\n",
       "      <th>2013-01-02</th>\n",
       "      <th>2013-01-03</th>\n",
       "      <th>2013-01-04</th>\n",
       "      <th>2013-01-05</th>\n",
       "      <th>2013-01-06</th>\n",
       "    </tr>\n",
       "  </thead>\n",
       "  <tbody>\n",
       "    <tr>\n",
       "      <th>A</th>\n",
       "      <td>-1.225880</td>\n",
       "      <td>-1.413673</td>\n",
       "      <td>-2.563290</td>\n",
       "      <td>-0.871348</td>\n",
       "      <td>-1.785303</td>\n",
       "      <td>-0.755312</td>\n",
       "    </tr>\n",
       "    <tr>\n",
       "      <th>B</th>\n",
       "      <td>-0.267427</td>\n",
       "      <td>0.515136</td>\n",
       "      <td>1.250634</td>\n",
       "      <td>0.710303</td>\n",
       "      <td>0.124893</td>\n",
       "      <td>-1.140654</td>\n",
       "    </tr>\n",
       "    <tr>\n",
       "      <th>C</th>\n",
       "      <td>-0.885455</td>\n",
       "      <td>-0.721941</td>\n",
       "      <td>1.088354</td>\n",
       "      <td>-1.490258</td>\n",
       "      <td>-1.542130</td>\n",
       "      <td>-2.679118</td>\n",
       "    </tr>\n",
       "    <tr>\n",
       "      <th>D</th>\n",
       "      <td>-0.374412</td>\n",
       "      <td>1.734132</td>\n",
       "      <td>-2.013576</td>\n",
       "      <td>-0.148848</td>\n",
       "      <td>0.110644</td>\n",
       "      <td>1.214495</td>\n",
       "    </tr>\n",
       "  </tbody>\n",
       "</table>\n",
       "</div>"
      ],
      "text/plain": [
       "   2013-01-01  2013-01-02  2013-01-03  2013-01-04  2013-01-05  2013-01-06\n",
       "A   -1.225880   -1.413673   -2.563290   -0.871348   -1.785303   -0.755312\n",
       "B   -0.267427    0.515136    1.250634    0.710303    0.124893   -1.140654\n",
       "C   -0.885455   -0.721941    1.088354   -1.490258   -1.542130   -2.679118\n",
       "D   -0.374412    1.734132   -2.013576   -0.148848    0.110644    1.214495"
      ]
     },
     "execution_count": 46,
     "metadata": {},
     "output_type": "execute_result"
    }
   ],
   "source": [
    "df.T"
   ]
  },
  {
   "cell_type": "code",
   "execution_count": 27,
   "metadata": {},
   "outputs": [
    {
     "data": {
      "text/html": [
       "<div>\n",
       "<style scoped>\n",
       "    .dataframe tbody tr th:only-of-type {\n",
       "        vertical-align: middle;\n",
       "    }\n",
       "\n",
       "    .dataframe tbody tr th {\n",
       "        vertical-align: top;\n",
       "    }\n",
       "\n",
       "    .dataframe thead th {\n",
       "        text-align: right;\n",
       "    }\n",
       "</style>\n",
       "<table border=\"1\" class=\"dataframe\">\n",
       "  <thead>\n",
       "    <tr style=\"text-align: right;\">\n",
       "      <th></th>\n",
       "      <th>D</th>\n",
       "      <th>C</th>\n",
       "      <th>B</th>\n",
       "      <th>A</th>\n",
       "    </tr>\n",
       "  </thead>\n",
       "  <tbody>\n",
       "    <tr>\n",
       "      <th>2013-01-01</th>\n",
       "      <td>-0.374412</td>\n",
       "      <td>-0.885455</td>\n",
       "      <td>-0.267427</td>\n",
       "      <td>-1.225880</td>\n",
       "    </tr>\n",
       "    <tr>\n",
       "      <th>2013-01-02</th>\n",
       "      <td>1.734132</td>\n",
       "      <td>-0.721941</td>\n",
       "      <td>0.515136</td>\n",
       "      <td>-1.413673</td>\n",
       "    </tr>\n",
       "    <tr>\n",
       "      <th>2013-01-03</th>\n",
       "      <td>-2.013576</td>\n",
       "      <td>1.088354</td>\n",
       "      <td>1.250634</td>\n",
       "      <td>-2.563290</td>\n",
       "    </tr>\n",
       "    <tr>\n",
       "      <th>2013-01-04</th>\n",
       "      <td>-0.148848</td>\n",
       "      <td>-1.490258</td>\n",
       "      <td>0.710303</td>\n",
       "      <td>-0.871348</td>\n",
       "    </tr>\n",
       "    <tr>\n",
       "      <th>2013-01-05</th>\n",
       "      <td>0.110644</td>\n",
       "      <td>-1.542130</td>\n",
       "      <td>0.124893</td>\n",
       "      <td>-1.785303</td>\n",
       "    </tr>\n",
       "    <tr>\n",
       "      <th>2013-01-06</th>\n",
       "      <td>1.214495</td>\n",
       "      <td>-2.679118</td>\n",
       "      <td>-1.140654</td>\n",
       "      <td>-0.755312</td>\n",
       "    </tr>\n",
       "  </tbody>\n",
       "</table>\n",
       "</div>"
      ],
      "text/plain": [
       "                   D         C         B         A\n",
       "2013-01-01 -0.374412 -0.885455 -0.267427 -1.225880\n",
       "2013-01-02  1.734132 -0.721941  0.515136 -1.413673\n",
       "2013-01-03 -2.013576  1.088354  1.250634 -2.563290\n",
       "2013-01-04 -0.148848 -1.490258  0.710303 -0.871348\n",
       "2013-01-05  0.110644 -1.542130  0.124893 -1.785303\n",
       "2013-01-06  1.214495 -2.679118 -1.140654 -0.755312"
      ]
     },
     "execution_count": 27,
     "metadata": {},
     "output_type": "execute_result"
    }
   ],
   "source": [
    "df.sort_index(axis=1, ascending=False)"
   ]
  },
  {
   "cell_type": "code",
   "execution_count": 51,
   "metadata": {},
   "outputs": [
    {
     "name": "stdout",
     "output_type": "stream",
     "text": [
      "2013-01-01   -1.225880\n",
      "2013-01-02   -1.413673\n",
      "2013-01-03   -2.563290\n",
      "2013-01-04   -0.871348\n",
      "2013-01-05   -1.785303\n",
      "2013-01-06   -0.755312\n",
      "Freq: D, Name: A, dtype: float64 \n",
      "\n",
      "                   A         B         C         D\n",
      "2013-01-01 -1.225880 -0.267427 -0.885455 -0.374412\n",
      "2013-01-02 -1.413673  0.515136 -0.721941  1.734132\n",
      "2013-01-03 -2.563290  1.250634  1.088354 -2.013576\n"
     ]
    }
   ],
   "source": [
    "print(df[\"A\"],'\\n')\n",
    "print(df[0:3])"
   ]
  },
  {
   "cell_type": "code",
   "execution_count": 53,
   "metadata": {},
   "outputs": [
    {
     "name": "stdout",
     "output_type": "stream",
     "text": [
      "A   -1.225880\n",
      "B   -0.267427\n",
      "C   -0.885455\n",
      "D   -0.374412\n",
      "Name: 2013-01-01 00:00:00, dtype: float64 \n",
      "\n",
      "                   A         B\n",
      "2013-01-01 -1.225880 -0.267427\n",
      "2013-01-02 -1.413673  0.515136\n",
      "2013-01-03 -2.563290  1.250634\n",
      "2013-01-04 -0.871348  0.710303\n",
      "2013-01-05 -1.785303  0.124893\n",
      "2013-01-06 -0.755312 -1.140654 \n",
      "\n",
      "                   A         B\n",
      "2013-01-02 -1.413673  0.515136\n",
      "2013-01-03 -2.563290  1.250634\n",
      "2013-01-04 -0.871348  0.710303 \n",
      "\n",
      "-1.2258796522621238 \n",
      "\n"
     ]
    }
   ],
   "source": [
    "print(df.loc[dates[0]],'\\n')\n",
    "print(df.loc[:, [\"A\", \"B\"]],'\\n')\n",
    "print(df.loc[\"20130102\":\"20130104\", [\"A\", \"B\"]],'\\n')\n",
    "print(df.loc[dates[0], \"A\"])"
   ]
  },
  {
   "cell_type": "code",
   "execution_count": 55,
   "metadata": {},
   "outputs": [
    {
     "name": "stdout",
     "output_type": "stream",
     "text": [
      "A   -0.871348\n",
      "B    0.710303\n",
      "C   -1.490258\n",
      "D   -0.148848\n",
      "Name: 2013-01-04 00:00:00, dtype: float64 \n",
      "\n",
      "                   A         B\n",
      "2013-01-04 -0.871348  0.710303\n",
      "2013-01-05 -1.785303  0.124893 \n",
      "\n",
      "                   A         B         C         D\n",
      "2013-01-02 -1.413673  0.515136 -0.721941  1.734132\n",
      "2013-01-03 -2.563290  1.250634  1.088354 -2.013576\n"
     ]
    }
   ],
   "source": [
    "print(df.iloc[3],'\\n')\n",
    "print(df.iloc[3:5, 0:2],'\\n')\n",
    "print(df.iloc[1:3, :])"
   ]
  },
  {
   "cell_type": "code",
   "execution_count": 57,
   "metadata": {},
   "outputs": [
    {
     "name": "stdout",
     "output_type": "stream",
     "text": [
      "             A         B         C         D\n",
      "2013-01-01 NaN       NaN       NaN       NaN\n",
      "2013-01-02 NaN  0.515136       NaN  1.734132\n",
      "2013-01-03 NaN  1.250634  1.088354       NaN\n",
      "2013-01-04 NaN  0.710303       NaN       NaN\n",
      "2013-01-05 NaN  0.124893       NaN  0.110644\n",
      "2013-01-06 NaN       NaN       NaN  1.214495 \n",
      "\n",
      "Empty DataFrame\n",
      "Columns: [A, B, C, D]\n",
      "Index: []\n"
     ]
    }
   ],
   "source": [
    "print(df[df > 0],'\\n')\n",
    "print(df[df[\"A\"] > 0])"
   ]
  },
  {
   "cell_type": "code",
   "execution_count": 59,
   "metadata": {},
   "outputs": [
    {
     "name": "stdout",
     "output_type": "stream",
     "text": [
      "                   A         B         C         D     E\n",
      "2013-01-03 -2.563290  1.250634  1.088354 -2.013576   two\n",
      "2013-01-05 -1.785303  0.124893 -1.542130  0.110644  four\n"
     ]
    }
   ],
   "source": [
    "df2 = df.copy()\n",
    "df2[\"E\"] = [\"one\", \"one\", \"two\", \"three\", \"four\", \"three\"]\n",
    "print(df2[df2[\"E\"].isin([\"two\", \"four\"])])"
   ]
  },
  {
   "cell_type": "code",
   "execution_count": 62,
   "metadata": {},
   "outputs": [
    {
     "name": "stdout",
     "output_type": "stream",
     "text": [
      "                   A         B         C         D\n",
      "2013-01-01 -1.225880 -0.267427 -0.885455 -0.374412\n",
      "2013-01-02 -1.413673 -0.515136 -0.721941 -1.734132\n",
      "2013-01-03 -2.563290 -1.250634 -1.088354 -2.013576\n",
      "2013-01-04 -0.871348 -0.710303 -1.490258 -0.148848\n",
      "2013-01-05 -1.785303 -0.124893 -1.542130 -0.110644\n",
      "2013-01-06 -0.755312 -1.140654 -2.679118 -1.214495\n"
     ]
    }
   ],
   "source": [
    "df2 = df.copy()\n",
    "df2[df2 > 0] = -df2\n",
    "print(df2)"
   ]
  },
  {
   "cell_type": "code",
   "execution_count": 64,
   "metadata": {},
   "outputs": [
    {
     "name": "stdout",
     "output_type": "stream",
     "text": [
      "                   A         B         C         D    E\n",
      "2013-01-01 -1.225880 -0.267427 -0.885455 -0.374412  1.0\n",
      "2013-01-02 -1.413673  0.515136 -0.721941  1.734132  1.0\n",
      "2013-01-03 -2.563290  1.250634  1.088354 -2.013576  NaN\n",
      "2013-01-04 -0.871348  0.710303 -1.490258 -0.148848  NaN\n"
     ]
    }
   ],
   "source": [
    "df1 = df.reindex(index=dates[0:4], columns=list(df.columns) + [\"E\"])\n",
    "df1.loc[dates[0] : dates[1], \"E\"] = 1\n",
    "print(df1)"
   ]
  },
  {
   "cell_type": "code",
   "execution_count": 65,
   "metadata": {},
   "outputs": [
    {
     "name": "stdout",
     "output_type": "stream",
     "text": [
      "                   A         B         C         D    E\n",
      "2013-01-01 -1.225880 -0.267427 -0.885455 -0.374412  1.0\n",
      "2013-01-02 -1.413673  0.515136 -0.721941  1.734132  1.0 \n",
      "\n",
      "                   A         B         C         D    E\n",
      "2013-01-01 -1.225880 -0.267427 -0.885455 -0.374412  1.0\n",
      "2013-01-02 -1.413673  0.515136 -0.721941  1.734132  1.0\n",
      "2013-01-03 -2.563290  1.250634  1.088354 -2.013576  5.0\n",
      "2013-01-04 -0.871348  0.710303 -1.490258 -0.148848  5.0 \n",
      "\n",
      "                   A         B         C         D    E\n",
      "2013-01-01 -1.225880 -0.267427 -0.885455 -0.374412  1.0\n",
      "2013-01-02 -1.413673  0.515136 -0.721941  1.734132  1.0\n",
      "2013-01-03 -2.563290  1.250634  1.088354 -2.013576  1.0\n",
      "2013-01-04 -0.871348  0.710303 -1.490258 -0.148848  1.0\n"
     ]
    }
   ],
   "source": [
    "print(df1.dropna(),'\\n')\n",
    "print(df1.fillna(5),'\\n')\n",
    "print(df1.interpolate())"
   ]
  }
 ],
 "metadata": {
  "kernelspec": {
   "display_name": "Python (venv)",
   "language": "python",
   "name": "venv"
  },
  "language_info": {
   "codemirror_mode": {
    "name": "ipython",
    "version": 3
   },
   "file_extension": ".py",
   "mimetype": "text/x-python",
   "name": "python",
   "nbconvert_exporter": "python",
   "pygments_lexer": "ipython3",
   "version": "3.12.7"
  }
 },
 "nbformat": 4,
 "nbformat_minor": 2
}
