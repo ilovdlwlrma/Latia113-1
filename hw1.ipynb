{
 "cells": [
  {
   "cell_type": "code",
   "execution_count": 1,
   "metadata": {},
   "outputs": [
    {
     "name": "stdout",
     "output_type": "stream",
     "text": [
      "Hello World\n"
     ]
    }
   ],
   "source": [
    "print(\"Hello World\")"
   ]
  },
  {
   "cell_type": "code",
   "execution_count": 2,
   "metadata": {},
   "outputs": [
    {
     "name": "stdout",
     "output_type": "stream",
     "text": [
      "1 1 1\n"
     ]
    }
   ],
   "source": [
    "a = 1\n",
    "b = c = a\n",
    "print(a, b, c)"
   ]
  },
  {
   "cell_type": "code",
   "execution_count": 4,
   "metadata": {},
   "outputs": [
    {
     "name": "stdout",
     "output_type": "stream",
     "text": [
      "2 1\n"
     ]
    }
   ],
   "source": [
    "a = 1\n",
    "b = a\n",
    "a = 2\n",
    "print(a, b)"
   ]
  },
  {
   "cell_type": "code",
   "execution_count": 6,
   "metadata": {},
   "outputs": [
    {
     "name": "stdout",
     "output_type": "stream",
     "text": [
      "Why so serious...\n"
     ]
    }
   ],
   "source": [
    "a = \"Why so serious...\"\n",
    "print(a)"
   ]
  },
  {
   "cell_type": "code",
   "execution_count": 8,
   "metadata": {},
   "outputs": [
    {
     "name": "stdout",
     "output_type": "stream",
     "text": [
      "1\n",
      "4\n",
      "l\n",
      "1234567890abcdefghijkl\n",
      "67890abcdefghijkl\n",
      "12345\n",
      "67890\n",
      "67890abcdefghi\n",
      "680\n"
     ]
    }
   ],
   "source": [
    "a = '1234567890abcdefghijkl'\n",
    "print(a[0])\n",
    "print(a[3])\n",
    "print(a[-1])\n",
    "print(a[:])\n",
    "print(a[5:])\n",
    "print(a[:5])\n",
    "print(a[5:10])\n",
    "print(a[5:-3])\n",
    "print(a[5:10:2])"
   ]
  },
  {
   "cell_type": "code",
   "execution_count": 12,
   "metadata": {},
   "outputs": [
    {
     "name": "stdout",
     "output_type": "stream",
     "text": [
      "11\n"
     ]
    }
   ],
   "source": [
    "a = 'hello world'\n",
    "print(len(a))"
   ]
  },
  {
   "cell_type": "code",
   "execution_count": 10,
   "metadata": {},
   "outputs": [
    {
     "name": "stdout",
     "output_type": "stream",
     "text": [
      "36\n",
      "['hello world', ' I am oxxo', ' how are you?']\n",
      "['hello', 'world,', 'I', 'am', 'oxxo,', 'how', 'are', 'you?']\n",
      "['hello', 'world,', 'I', 'am', 'oxxo,', 'how', 'are', 'you?']\n"
     ]
    }
   ],
   "source": [
    "a = 'hello world, I am oxxo, how are you?'\n",
    "b = a.split(',')\n",
    "c = a.split(' ')\n",
    "d = a.split()\n",
    "print(b)\n",
    "print(c)\n",
    "print(d)"
   ]
  },
  {
   "cell_type": "code",
   "execution_count": 20,
   "metadata": {},
   "outputs": [
    {
     "name": "stdout",
     "output_type": "stream",
     "text": [
      "['apple', 'banana', 'orange']\n",
      "[1, 2, 3, 4, 5]\n",
      "['apple', 1, 2, 3, ['dog', 'cat']]\n",
      "['a', 'p', 'p', 'l', 'e']\n"
     ]
    }
   ],
   "source": [
    "a = ['apple', 'banana', 'orange']\n",
    "b = [1, 2, 3, 4, 5]\n",
    "c = ['apple', 1, 2, 3, ['dog', 'cat']]\n",
    "d = list('apple')\n",
    "print(f\"{a}\\n{b}\\n{c}\\n{d}\")"
   ]
  },
  {
   "cell_type": "code",
   "execution_count": 17,
   "metadata": {},
   "outputs": [
    {
     "name": "stdout",
     "output_type": "stream",
     "text": [
      "apple\n",
      "banana\n",
      "orange\n",
      "grape\n",
      "apple\n",
      "banana\n",
      "orange\n",
      "grape\n"
     ]
    }
   ],
   "source": [
    "t = ('apple', 'banana', 'orange', 'grape')\n",
    "a, b, c, d = t\n",
    "print(f\"{a}\\n{b}\\n{c}\\n{d}\")"
   ]
  },
  {
   "cell_type": "code",
   "execution_count": 19,
   "metadata": {},
   "outputs": [
    {
     "name": "stdout",
     "output_type": "stream",
     "text": [
      "apple\n",
      "banana\n",
      "orange\n",
      "grape\n"
     ]
    }
   ],
   "source": [
    "print(f\"{t[0]}\\n{t[1]}\\n{t[2]}\\n{t[3]}\")"
   ]
  },
  {
   "cell_type": "code",
   "execution_count": 22,
   "metadata": {},
   "outputs": [
    {
     "name": "stdout",
     "output_type": "stream",
     "text": [
      "('apple', 'banana', 'orange', 'grape', 'pineapple')\n"
     ]
    }
   ],
   "source": [
    "t1 = ('apple', 'banana', 'orange')\n",
    "t2 = ('grape', 'pineapple')\n",
    "t = t1 + t2\n",
    "print(t)"
   ]
  },
  {
   "cell_type": "code",
   "execution_count": 23,
   "metadata": {},
   "outputs": [
    {
     "name": "stdout",
     "output_type": "stream",
     "text": [
      "{'name': 'oxxo', 'age': 18, 'eat': ['apple', 'banana']}\n",
      "<class 'dict'>\n"
     ]
    }
   ],
   "source": [
    "a = dict(name='oxxo', age=18, eat=['apple','banana'])\n",
    "print(a)\n",
    "print(type(a))"
   ]
  },
  {
   "cell_type": "code",
   "execution_count": 24,
   "metadata": {},
   "outputs": [
    {
     "name": "stdout",
     "output_type": "stream",
     "text": [
      "world\n",
      "ok\n"
     ]
    }
   ],
   "source": [
    "a = 2\n",
    "b = 3\n",
    "if a > b:\n",
    "    print('hello')\n",
    "else:\n",
    "    print('world')\n",
    "print('ok')"
   ]
  },
  {
   "cell_type": "code",
   "execution_count": 26,
   "metadata": {},
   "outputs": [
    {
     "name": "stdout",
     "output_type": "stream",
     "text": [
      "a < b\n",
      "a = 2\n",
      "ok\n"
     ]
    }
   ],
   "source": [
    "a = 2\n",
    "b = 3\n",
    "if a < b:\n",
    "    print('a < b')\n",
    "    if a == 1:\n",
    "        print('a = 1')\n",
    "    elif a == 2:\n",
    "        print('a = 2')\n",
    "    elif a == 3:\n",
    "        print('a = 3')\n",
    "elif a > b:\n",
    "    print('a > b')\n",
    "else:\n",
    "    print('a = b')\n",
    "print('ok')"
   ]
  },
  {
   "cell_type": "code",
   "execution_count": 28,
   "metadata": {},
   "outputs": [
    {
     "name": "stdout",
     "output_type": "stream",
     "text": [
      "XXX\n"
     ]
    }
   ],
   "source": [
    "a = 2\n",
    "b = 3\n",
    "c = 0\n",
    "if a > b or a < c and a == 2 or b == 4:\n",
    "    print('ok1')\n",
    "else:\n",
    "    print('XXX')"
   ]
  },
  {
   "cell_type": "code",
   "execution_count": 29,
   "metadata": {},
   "outputs": [
    {
     "name": "stdout",
     "output_type": "stream",
     "text": [
      "a\n",
      "b\n",
      "c\n"
     ]
    }
   ],
   "source": [
    "for i in 'abc':\n",
    "    print(i)"
   ]
  },
  {
   "cell_type": "code",
   "execution_count": 30,
   "metadata": {},
   "outputs": [
    {
     "name": "stdout",
     "output_type": "stream",
     "text": [
      "1\n",
      "2\n",
      "3\n",
      "x\n",
      "1\n",
      "2\n",
      "3\n",
      "y\n",
      "1\n",
      "2\n",
      "3\n",
      "z\n"
     ]
    }
   ],
   "source": [
    "for i in ['x', 'y', 'z']:\n",
    "    for j in [1,2,3]:\n",
    "        print(j)\n",
    "    print(i)"
   ]
  },
  {
   "cell_type": "code",
   "execution_count": 32,
   "metadata": {},
   "outputs": [
    {
     "name": "stdout",
     "output_type": "stream",
     "text": [
      "x1\n",
      "x2\n",
      "x3\n",
      "y1\n",
      "y2\n",
      "y3\n",
      "z1\n",
      "z2\n",
      "z3\n"
     ]
    }
   ],
   "source": [
    "for i in ['x', 'y', 'z']:\n",
    "    for j in [1,2,3]:\n",
    "        print(f'{i}{j}')"
   ]
  },
  {
   "cell_type": "code",
   "execution_count": 33,
   "metadata": {},
   "outputs": [
    {
     "name": "stdout",
     "output_type": "stream",
     "text": [
      "[1, 2, 3, 4, 5, 6, 7, 8, 9, 10]\n"
     ]
    }
   ],
   "source": [
    "i = []\n",
    "for t in range(10):\n",
    "    t += 1\n",
    "    i.append(t)\n",
    "print(i)"
   ]
  },
  {
   "cell_type": "code",
   "execution_count": 34,
   "metadata": {},
   "outputs": [
    {
     "name": "stdout",
     "output_type": "stream",
     "text": [
      "hello\n"
     ]
    }
   ],
   "source": [
    "try:\n",
    "    a = input('輸入數字: ')\n",
    "    print(a+1)\n",
    "except:\n",
    "    pass\n",
    "print('hello')"
   ]
  },
  {
   "cell_type": "code",
   "execution_count": 37,
   "metadata": {},
   "outputs": [
    {
     "name": "stdout",
     "output_type": "stream",
     "text": [
      "[1, 4, 9, 16, 25, 36, 49, 64, 81]\n",
      "[1, 4, 9, 16, 25, 36, 49, 64, 81]\n"
     ]
    }
   ],
   "source": [
    "a = []\n",
    "for i in range(1, 10):\n",
    "    a.append(i*i)\n",
    "print(a)\n",
    "\n",
    "b = [j*j for j in range(1,10)]\n",
    "print(b)"
   ]
  }
 ],
 "metadata": {
  "kernelspec": {
   "display_name": "Python (venv)",
   "language": "python",
   "name": "venv"
  },
  "language_info": {
   "codemirror_mode": {
    "name": "ipython",
    "version": 3
   },
   "file_extension": ".py",
   "mimetype": "text/x-python",
   "name": "python",
   "nbconvert_exporter": "python",
   "pygments_lexer": "ipython3",
   "version": "3.12.7"
  }
 },
 "nbformat": 4,
 "nbformat_minor": 2
}
